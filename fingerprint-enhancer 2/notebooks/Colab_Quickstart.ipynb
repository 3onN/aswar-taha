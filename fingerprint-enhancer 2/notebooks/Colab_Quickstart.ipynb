{
  "cells": [
    {
      "cell_type": "markdown",
      "metadata": {},
      "source": [
        "# Colab Quickstart — Fingerprint Enhancer\n",
        "\n",
        "This notebook mirrors your simple workflow:\n",
        "1. Install dependencies\n",
        "2. Upload your `theenhancer.py`\n",
        "3. Run `enhanced_upload_and_select()` to upload a fingerprint image and enhance it\n"
      ]
    },
    {
      "cell_type": "code",
      "metadata": {
        "id": "install"
      },
      "execution_count": null,
      "outputs": [],
      "source": [
        "!pip -q install opencv-python-headless scikit-image scipy pillow matplotlib loguru"
      ]
    },
    {
      "cell_type": "code",
      "metadata": {
        "id": "upload_py"
      },
      "execution_count": null,
      "outputs": [],
      "source": [
        "from google.colab import files\n",
        "print('Upload your theenhancer.py (the exact script with enhanced_upload_and_select())')\n",
        "uploaded = files.upload()\n",
        "print('Uploaded:', list(uploaded.keys()))"
      ]
    },
    {
      "cell_type": "code",
      "metadata": {
        "id": "run_script"
      },
      "execution_count": null,
      "outputs": [],
      "source": [
        "%run theenhancer.py\n",
        "print('Script loaded.')"
      ]
    },
    {
      "cell_type": "code",
      "metadata": {
        "id": "call_func"
      },
      "execution_count": null,
      "outputs": [],
      "source": [
        "# Now call your function to upload a fingerprint image and enhance it.\n",
        "enhanced_upload_and_select()"
      ]
    }
  ],
  "metadata": {
    "colab": {
      "name": "Colab_Quickstart.ipynb"
    },
    "kernelspec": {
      "name": "python3",
      "display_name": "Python 3"
    },
    "language_info": {
      "name": "python",
      "version": "3.x"
    }
  },
  "nbformat": 4,
  "nbformat_minor": 5
}